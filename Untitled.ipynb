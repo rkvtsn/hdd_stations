{
 "cells": [
  {
   "cell_type": "code",
   "execution_count": 59,
   "metadata": {},
   "outputs": [
    {
     "data": {
      "text/plain": [
       "{'analyzator1': False,\n",
       " 'analyzator2': False,\n",
       " 'analyzator3': False,\n",
       " 'analyzator4': False,\n",
       " 'analyzator5': False,\n",
       " 'analyzlth': False,\n",
       " 'apknaprmv': False,\n",
       " 'apkrmv': False,\n",
       " 'decision': False,\n",
       " 'quality': False}"
      ]
     },
     "execution_count": 59,
     "metadata": {},
     "output_type": "execute_result"
    }
   ],
   "source": [
    "ONLINE_TAG_BEGIN = \"I_T nexus information:\"\n",
    "ONLINE_TAG_END = \"LUN information:\"\n",
    "\n",
    "def cmd_stations_status():\n",
    "    with open('tgtadm_list.txt') as fp:\n",
    "        return fp.read()\n",
    "    \n",
    "def refresh_stations_status():\n",
    "    stations = {}\n",
    "    cmd_text = cmd_stations_status()\n",
    "    targets = list(filter(bool, cmd_text.replace('Target', '#Target').split('#')))\n",
    "    for t in targets:\n",
    "        target = [x.strip() for x in t.split('\\n')]\n",
    "        target_name, _, name = target[0].split(':')\n",
    "        begin = t.find(ONLINE_TAG_BEGIN)\n",
    "        end = t.find(ONLINE_TAG_END)\n",
    "        online_information = t[begin + len(ONLINE_TAG_BEGIN):end]\n",
    "        stations[name] = not online_information.strip\n",
    "    return stations\n",
    "\n",
    "refresh_stations_status()"
   ]
  },
  {
   "cell_type": "code",
   "execution_count": 80,
   "metadata": {},
   "outputs": [],
   "source": [
    "variables = {}\n",
    "text=1\n",
    "text2=2"
   ]
  },
  {
   "cell_type": "code",
   "execution_count": 81,
   "metadata": {
    "collapsed": true
   },
   "outputs": [],
   "source": [
    "from string import Template"
   ]
  },
  {
   "cell_type": "code",
   "execution_count": 82,
   "metadata": {},
   "outputs": [],
   "source": [
    "template = Template(\"\"\"\n",
    "$text\n",
    "$text2\n",
    "$text\n",
    "\"\"\")"
   ]
  },
  {
   "cell_type": "code",
   "execution_count": null,
   "metadata": {},
   "outputs": [],
   "source": []
  },
  {
   "cell_type": "code",
   "execution_count": null,
   "metadata": {
    "collapsed": true
   },
   "outputs": [],
   "source": []
  }
 ],
 "metadata": {
  "kernelspec": {
   "display_name": "Python 3",
   "language": "python",
   "name": "python3"
  },
  "language_info": {
   "codemirror_mode": {
    "name": "ipython",
    "version": 3
   },
   "file_extension": ".py",
   "mimetype": "text/x-python",
   "name": "python",
   "nbconvert_exporter": "python",
   "pygments_lexer": "ipython3",
   "version": "3.6.1"
  }
 },
 "nbformat": 4,
 "nbformat_minor": 2
}
